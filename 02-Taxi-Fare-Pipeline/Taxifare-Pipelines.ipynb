{
 "cells": [
  {
   "cell_type": "markdown",
   "metadata": {},
   "source": [
    "# Refactor the Taxi Fare Prediction Problem with a Pipeline"
   ]
  },
  {
   "cell_type": "markdown",
   "metadata": {},
   "source": [
    "We will refactor the model you built for the Taxi Fare Prediction Problem using:\n",
    "- Custom encoders for the distance and time features\n",
    "- OneHot Encoder in order to encode the hour and day of week features\n",
    "- SimpleImputer to fill missing values\n",
    "- A simple linear regression\n",
    "- A pipeline to put all together\n",
    "\n",
    "Then: \n",
    "- train this pipeline\n",
    "- apply the pipeline on test data\n",
    "- generate predictions and submit these new predictions to Kaggle"
   ]
  },
  {
   "cell_type": "markdown",
   "metadata": {},
   "source": [
    "## First pipeline"
   ]
  },
  {
   "cell_type": "code",
   "execution_count": 2,
   "metadata": {},
   "outputs": [],
   "source": [
    "# import the train dataset ( 1000 first rows)\n",
    "import pandas as pd\n",
    "df = pd.read_csv(\"C:\\\\Users\\\\Joe\\\\Desktop\\\\py\\\\workflow\\\\train.csv\", nrows=1000,parse_dates=['pickup_datetime'])"
   ]
  },
  {
   "cell_type": "code",
   "execution_count": 3,
   "metadata": {},
   "outputs": [
    {
     "data": {
      "text/plain": [
       "key                  0.0\n",
       "fare_amount          0.0\n",
       "pickup_datetime      0.0\n",
       "pickup_longitude     0.0\n",
       "pickup_latitude      0.0\n",
       "dropoff_longitude    0.0\n",
       "dropoff_latitude     0.0\n",
       "passenger_count      0.0\n",
       "dtype: float64"
      ]
     },
     "execution_count": 3,
     "metadata": {},
     "output_type": "execute_result"
    }
   ],
   "source": [
    "100 * df.isnull().sum().sort_values(ascending=False)/len(df)\n"
   ]
  },
  {
   "cell_type": "code",
   "execution_count": 4,
   "metadata": {},
   "outputs": [
    {
     "name": "stdout",
     "output_type": "stream",
     "text": [
      "0 duplicates were removed.\n"
     ]
    }
   ],
   "source": [
    "size_before = len(df)\n",
    "df = df.drop_duplicates()\n",
    "size_after = len(df)\n",
    "print(str(size_before - size_after) + \" duplicates were removed.\")"
   ]
  },
  {
   "cell_type": "code",
   "execution_count": 6,
   "metadata": {},
   "outputs": [
    {
     "data": {
      "text/html": [
       "<div>\n",
       "<style scoped>\n",
       "    .dataframe tbody tr th:only-of-type {\n",
       "        vertical-align: middle;\n",
       "    }\n",
       "\n",
       "    .dataframe tbody tr th {\n",
       "        vertical-align: top;\n",
       "    }\n",
       "\n",
       "    .dataframe thead th {\n",
       "        text-align: right;\n",
       "    }\n",
       "</style>\n",
       "<table border=\"1\" class=\"dataframe\">\n",
       "  <thead>\n",
       "    <tr style=\"text-align: right;\">\n",
       "      <th></th>\n",
       "      <th>fare_amount</th>\n",
       "      <th>pickup_datetime</th>\n",
       "      <th>pickup_longitude</th>\n",
       "      <th>pickup_latitude</th>\n",
       "      <th>dropoff_longitude</th>\n",
       "      <th>dropoff_latitude</th>\n",
       "      <th>passenger_count</th>\n",
       "    </tr>\n",
       "  </thead>\n",
       "  <tbody>\n",
       "    <tr>\n",
       "      <th>0</th>\n",
       "      <td>4.5</td>\n",
       "      <td>2009-06-15 17:26:21+00:00</td>\n",
       "      <td>-73.844311</td>\n",
       "      <td>40.721319</td>\n",
       "      <td>-73.841610</td>\n",
       "      <td>40.712278</td>\n",
       "      <td>1</td>\n",
       "    </tr>\n",
       "    <tr>\n",
       "      <th>1</th>\n",
       "      <td>16.9</td>\n",
       "      <td>2010-01-05 16:52:16+00:00</td>\n",
       "      <td>-74.016048</td>\n",
       "      <td>40.711303</td>\n",
       "      <td>-73.979268</td>\n",
       "      <td>40.782004</td>\n",
       "      <td>1</td>\n",
       "    </tr>\n",
       "    <tr>\n",
       "      <th>2</th>\n",
       "      <td>5.7</td>\n",
       "      <td>2011-08-18 00:35:00+00:00</td>\n",
       "      <td>-73.982738</td>\n",
       "      <td>40.761270</td>\n",
       "      <td>-73.991242</td>\n",
       "      <td>40.750562</td>\n",
       "      <td>2</td>\n",
       "    </tr>\n",
       "    <tr>\n",
       "      <th>3</th>\n",
       "      <td>7.7</td>\n",
       "      <td>2012-04-21 04:30:42+00:00</td>\n",
       "      <td>-73.987130</td>\n",
       "      <td>40.733143</td>\n",
       "      <td>-73.991567</td>\n",
       "      <td>40.758092</td>\n",
       "      <td>1</td>\n",
       "    </tr>\n",
       "    <tr>\n",
       "      <th>4</th>\n",
       "      <td>5.3</td>\n",
       "      <td>2010-03-09 07:51:00+00:00</td>\n",
       "      <td>-73.968095</td>\n",
       "      <td>40.768008</td>\n",
       "      <td>-73.956655</td>\n",
       "      <td>40.783762</td>\n",
       "      <td>1</td>\n",
       "    </tr>\n",
       "  </tbody>\n",
       "</table>\n",
       "</div>"
      ],
      "text/plain": [
       "   fare_amount           pickup_datetime  pickup_longitude  pickup_latitude  \\\n",
       "0          4.5 2009-06-15 17:26:21+00:00        -73.844311        40.721319   \n",
       "1         16.9 2010-01-05 16:52:16+00:00        -74.016048        40.711303   \n",
       "2          5.7 2011-08-18 00:35:00+00:00        -73.982738        40.761270   \n",
       "3          7.7 2012-04-21 04:30:42+00:00        -73.987130        40.733143   \n",
       "4          5.3 2010-03-09 07:51:00+00:00        -73.968095        40.768008   \n",
       "\n",
       "   dropoff_longitude  dropoff_latitude  passenger_count  \n",
       "0         -73.841610         40.712278                1  \n",
       "1         -73.979268         40.782004                1  \n",
       "2         -73.991242         40.750562                2  \n",
       "3         -73.991567         40.758092                1  \n",
       "4         -73.956655         40.783762                1  "
      ]
     },
     "execution_count": 6,
     "metadata": {},
     "output_type": "execute_result"
    }
   ],
   "source": [
    "def clean_data(df, test=False, predict=False):\n",
    "    df = df.drop([\"key\"], axis=1)\n",
    "    df = df.dropna(how='any', axis='rows')\n",
    "    df = df[(df.dropoff_latitude != 0) | (df.dropoff_longitude != 0)]\n",
    "    df = df[(df.pickup_latitude != 0) | (df.pickup_longitude != 0)]\n",
    "    if \"fare_amount\" in list(df):\n",
    "        df = df[df.fare_amount.between(0, 4000)]\n",
    "    df = df[df.passenger_count < 8]\n",
    "    df = df[df.passenger_count >= 0]\n",
    "    df = df[df[\"pickup_latitude\"].between(left=40, right=42)]\n",
    "    df = df[df[\"pickup_longitude\"].between(left=-74.3, right=-72.9)]\n",
    "    df = df[df[\"dropoff_latitude\"].between(left=40, right=42)]\n",
    "    df = df[df[\"dropoff_longitude\"].between(left=-74, right=-72.9)]\n",
    "    return df\n",
    "data_train = clean_data(df)\n",
    "data_train.head()"
   ]
  },
  {
   "cell_type": "code",
   "execution_count": 7,
   "metadata": {},
   "outputs": [],
   "source": [
    "# prepare X and y\n",
    "X_train = data_train.drop([\"fare_amount\"], axis=1)\n",
    "y_train = data_train[\"fare_amount\"]"
   ]
  },
  {
   "cell_type": "code",
   "execution_count": 52,
   "metadata": {},
   "outputs": [],
   "source": [
    "X = X_train\n",
    "y = y_train"
   ]
  },
  {
   "cell_type": "code",
   "execution_count": 53,
   "metadata": {},
   "outputs": [],
   "source": [
    "# Hold out ( train and test split )\n",
    "from sklearn.model_selection import train_test_split\n",
    "X_train, X_test, y_train, y_test = train_test_split(X, y, test_size=0.33, random_state=42)"
   ]
  },
  {
   "cell_type": "code",
   "execution_count": 8,
   "metadata": {},
   "outputs": [
    {
     "data": {
      "text/html": [
       "<div>\n",
       "<style scoped>\n",
       "    .dataframe tbody tr th:only-of-type {\n",
       "        vertical-align: middle;\n",
       "    }\n",
       "\n",
       "    .dataframe tbody tr th {\n",
       "        vertical-align: top;\n",
       "    }\n",
       "\n",
       "    .dataframe thead th {\n",
       "        text-align: right;\n",
       "    }\n",
       "</style>\n",
       "<table border=\"1\" class=\"dataframe\">\n",
       "  <thead>\n",
       "    <tr style=\"text-align: right;\">\n",
       "      <th></th>\n",
       "      <th>pickup_datetime</th>\n",
       "      <th>pickup_longitude</th>\n",
       "      <th>pickup_latitude</th>\n",
       "      <th>dropoff_longitude</th>\n",
       "      <th>dropoff_latitude</th>\n",
       "      <th>passenger_count</th>\n",
       "    </tr>\n",
       "  </thead>\n",
       "  <tbody>\n",
       "    <tr>\n",
       "      <th>0</th>\n",
       "      <td>2009-06-15 17:26:21+00:00</td>\n",
       "      <td>-73.844311</td>\n",
       "      <td>40.721319</td>\n",
       "      <td>-73.841610</td>\n",
       "      <td>40.712278</td>\n",
       "      <td>1</td>\n",
       "    </tr>\n",
       "    <tr>\n",
       "      <th>1</th>\n",
       "      <td>2010-01-05 16:52:16+00:00</td>\n",
       "      <td>-74.016048</td>\n",
       "      <td>40.711303</td>\n",
       "      <td>-73.979268</td>\n",
       "      <td>40.782004</td>\n",
       "      <td>1</td>\n",
       "    </tr>\n",
       "    <tr>\n",
       "      <th>2</th>\n",
       "      <td>2011-08-18 00:35:00+00:00</td>\n",
       "      <td>-73.982738</td>\n",
       "      <td>40.761270</td>\n",
       "      <td>-73.991242</td>\n",
       "      <td>40.750562</td>\n",
       "      <td>2</td>\n",
       "    </tr>\n",
       "    <tr>\n",
       "      <th>3</th>\n",
       "      <td>2012-04-21 04:30:42+00:00</td>\n",
       "      <td>-73.987130</td>\n",
       "      <td>40.733143</td>\n",
       "      <td>-73.991567</td>\n",
       "      <td>40.758092</td>\n",
       "      <td>1</td>\n",
       "    </tr>\n",
       "    <tr>\n",
       "      <th>4</th>\n",
       "      <td>2010-03-09 07:51:00+00:00</td>\n",
       "      <td>-73.968095</td>\n",
       "      <td>40.768008</td>\n",
       "      <td>-73.956655</td>\n",
       "      <td>40.783762</td>\n",
       "      <td>1</td>\n",
       "    </tr>\n",
       "  </tbody>\n",
       "</table>\n",
       "</div>"
      ],
      "text/plain": [
       "            pickup_datetime  pickup_longitude  pickup_latitude  \\\n",
       "0 2009-06-15 17:26:21+00:00        -73.844311        40.721319   \n",
       "1 2010-01-05 16:52:16+00:00        -74.016048        40.711303   \n",
       "2 2011-08-18 00:35:00+00:00        -73.982738        40.761270   \n",
       "3 2012-04-21 04:30:42+00:00        -73.987130        40.733143   \n",
       "4 2010-03-09 07:51:00+00:00        -73.968095        40.768008   \n",
       "\n",
       "   dropoff_longitude  dropoff_latitude  passenger_count  \n",
       "0         -73.841610         40.712278                1  \n",
       "1         -73.979268         40.782004                1  \n",
       "2         -73.991242         40.750562                2  \n",
       "3         -73.991567         40.758092                1  \n",
       "4         -73.956655         40.783762                1  "
      ]
     },
     "execution_count": 8,
     "metadata": {},
     "output_type": "execute_result"
    }
   ],
   "source": [
    "X_train.head()"
   ]
  },
  {
   "cell_type": "markdown",
   "metadata": {},
   "source": [
    "### Custom transformers"
   ]
  },
  {
   "cell_type": "markdown",
   "metadata": {},
   "source": [
    "With the Taxi Fare Prediction Challenge data, using `BaseEstimator` and `TransformerMixin`, implement:\n",
    "\n",
    "- a transformer that computes the haversine distance between the pickup and dropoff locations\n",
    "- a custom encoder that extracts the time features from `pickup_datetime`"
   ]
  },
  {
   "cell_type": "code",
   "execution_count": 9,
   "metadata": {},
   "outputs": [],
   "source": [
    "import numpy as np\n",
    "\n",
    "def haversine_vectorized(df, \n",
    "                         start_lat=\"pickup_latitude\",\n",
    "                         start_lon=\"pickup_longitude\",\n",
    "                         end_lat=\"dropoff_latitude\",\n",
    "                         end_lon=\"dropoff_longitude\"):\n",
    "    \"\"\" \n",
    "        Calculates the great circle distance between two points \n",
    "        on the earth (specified in decimal degrees).\n",
    "        Vectorized version of the haversine distance for pandas df.\n",
    "        Computes the distance in kms.\n",
    "    \"\"\"\n",
    "\n",
    "    lat_1_rad, lon_1_rad = np.radians(df[start_lat].astype(float)), np.radians(df[start_lon].astype(float))\n",
    "    lat_2_rad, lon_2_rad = np.radians(df[end_lat].astype(float)), np.radians(df[end_lon].astype(float))\n",
    "    dlon = lon_2_rad - lon_1_rad\n",
    "    dlat = lat_2_rad - lat_1_rad\n",
    "\n",
    "    a = np.sin(dlat / 2.0) ** 2 + np.cos(lat_1_rad) * np.cos(lat_2_rad) * np.sin(dlon / 2.0) ** 2\n",
    "    c = 2 * np.arcsin(np.sqrt(a))\n",
    "    return 6371 * c"
   ]
  },
  {
   "cell_type": "code",
   "execution_count": 14,
   "metadata": {},
   "outputs": [],
   "source": [
    "# create a DistanceTransformer\n",
    "from sklearn.base import BaseEstimator, TransformerMixin\n",
    "\n",
    "class DistanceTransformer(BaseEstimator, TransformerMixin):\n",
    "    \"\"\"\n",
    "        Computes the haversine distance between two GPS points.\n",
    "        Returns a copy of the DataFrame X with only one column: 'distance'.\n",
    "    \"\"\"\n",
    "\n",
    "    def __init__(self,\n",
    "                 start_lat=\"pickup_latitude\",\n",
    "                 start_lon=\"pickup_longitude\",\n",
    "                 end_lat=\"dropoff_latitude\",\n",
    "                 end_lon=\"dropoff_longitude\"):\n",
    "        # A COMPPLETER\n",
    "        self.start_lat = start_lat\n",
    "        self.start_lon = start_lon\n",
    "        self.end_lat = end_lat\n",
    "        self.end_lon = end_lon\n",
    "    def fit(self, X, y=None):\n",
    "        return self\n",
    "\n",
    "    def transform(self, X, y=None):\n",
    "    \n",
    "        return pd.DataFrame(haversine_vectorized(X)).rename(columns={0: \"course distance [km]\"}).copy()"
   ]
  },
  {
   "cell_type": "code",
   "execution_count": 15,
   "metadata": {},
   "outputs": [
    {
     "data": {
      "text/html": [
       "<div>\n",
       "<style scoped>\n",
       "    .dataframe tbody tr th:only-of-type {\n",
       "        vertical-align: middle;\n",
       "    }\n",
       "\n",
       "    .dataframe tbody tr th {\n",
       "        vertical-align: top;\n",
       "    }\n",
       "\n",
       "    .dataframe thead th {\n",
       "        text-align: right;\n",
       "    }\n",
       "</style>\n",
       "<table border=\"1\" class=\"dataframe\">\n",
       "  <thead>\n",
       "    <tr style=\"text-align: right;\">\n",
       "      <th></th>\n",
       "      <th>course distance [km]</th>\n",
       "    </tr>\n",
       "  </thead>\n",
       "  <tbody>\n",
       "    <tr>\n",
       "      <th>0</th>\n",
       "      <td>1.030764</td>\n",
       "    </tr>\n",
       "    <tr>\n",
       "      <th>1</th>\n",
       "      <td>8.450134</td>\n",
       "    </tr>\n",
       "    <tr>\n",
       "      <th>2</th>\n",
       "      <td>1.389525</td>\n",
       "    </tr>\n",
       "    <tr>\n",
       "      <th>3</th>\n",
       "      <td>2.799270</td>\n",
       "    </tr>\n",
       "    <tr>\n",
       "      <th>4</th>\n",
       "      <td>1.999157</td>\n",
       "    </tr>\n",
       "  </tbody>\n",
       "</table>\n",
       "</div>"
      ],
      "text/plain": [
       "   course distance [km]\n",
       "0              1.030764\n",
       "1              8.450134\n",
       "2              1.389525\n",
       "3              2.799270\n",
       "4              1.999157"
      ]
     },
     "execution_count": 15,
     "metadata": {},
     "output_type": "execute_result"
    }
   ],
   "source": [
    "# test the DistanceTransformer\n",
    "\n",
    "dist_trans = DistanceTransformer()\n",
    "distance = dist_trans.fit_transform(X_train, y_train)\n",
    "distance.head()"
   ]
  },
  {
   "cell_type": "code",
   "execution_count": 16,
   "metadata": {},
   "outputs": [],
   "source": [
    "# create a TimeFeaturesEncoder\n",
    "class TimeFeaturesEncoder(BaseEstimator, TransformerMixin):\n",
    "    \"\"\"\n",
    "        Extracts the day of week (dow), the hour, the month and the year from a time column.\n",
    "        Returns a copy of the DataFrame X with only four columns: 'dow', 'hour', 'month', 'year'.\n",
    "    \"\"\"\n",
    "\n",
    "    def __init__(self, time_column, time_zone_name='America/New_York'):\n",
    "       # A COMPLETER\n",
    "                self.time_column = time_column\n",
    "                self.time_zone_name = time_zone_name\n",
    "    def extract_time_features(self, X):\n",
    "        timezone_name = self.time_zone_name\n",
    "        time_column = self.time_column\n",
    "        df = X.copy()\n",
    "        df.index = pd.to_datetime(df[time_column])\n",
    "        df.index = df.index.tz_convert(timezone_name)\n",
    "        df[\"dow\"] = df.index.weekday\n",
    "        df[\"hour\"] = df.index.hour\n",
    "        df[\"month\"] = df.index.month\n",
    "        df[\"year\"] = df.index.year        \n",
    "        return df\n",
    "    def fit(self, X, y=None):\n",
    "        # A COMPLETER\n",
    "        return self\n",
    "    def transform(self, X, y=None):\n",
    "        # A COMPLETER \n",
    "        return self.extract_time_features(X)[['dow', 'hour', 'month', 'year']].reset_index(drop=True)"
   ]
  },
  {
   "cell_type": "code",
   "execution_count": 17,
   "metadata": {},
   "outputs": [
    {
     "data": {
      "text/html": [
       "<div>\n",
       "<style scoped>\n",
       "    .dataframe tbody tr th:only-of-type {\n",
       "        vertical-align: middle;\n",
       "    }\n",
       "\n",
       "    .dataframe tbody tr th {\n",
       "        vertical-align: top;\n",
       "    }\n",
       "\n",
       "    .dataframe thead th {\n",
       "        text-align: right;\n",
       "    }\n",
       "</style>\n",
       "<table border=\"1\" class=\"dataframe\">\n",
       "  <thead>\n",
       "    <tr style=\"text-align: right;\">\n",
       "      <th></th>\n",
       "      <th>dow</th>\n",
       "      <th>hour</th>\n",
       "      <th>month</th>\n",
       "      <th>year</th>\n",
       "    </tr>\n",
       "  </thead>\n",
       "  <tbody>\n",
       "    <tr>\n",
       "      <th>0</th>\n",
       "      <td>0</td>\n",
       "      <td>13</td>\n",
       "      <td>6</td>\n",
       "      <td>2009</td>\n",
       "    </tr>\n",
       "    <tr>\n",
       "      <th>1</th>\n",
       "      <td>1</td>\n",
       "      <td>11</td>\n",
       "      <td>1</td>\n",
       "      <td>2010</td>\n",
       "    </tr>\n",
       "    <tr>\n",
       "      <th>2</th>\n",
       "      <td>2</td>\n",
       "      <td>20</td>\n",
       "      <td>8</td>\n",
       "      <td>2011</td>\n",
       "    </tr>\n",
       "    <tr>\n",
       "      <th>3</th>\n",
       "      <td>5</td>\n",
       "      <td>0</td>\n",
       "      <td>4</td>\n",
       "      <td>2012</td>\n",
       "    </tr>\n",
       "    <tr>\n",
       "      <th>4</th>\n",
       "      <td>1</td>\n",
       "      <td>2</td>\n",
       "      <td>3</td>\n",
       "      <td>2010</td>\n",
       "    </tr>\n",
       "  </tbody>\n",
       "</table>\n",
       "</div>"
      ],
      "text/plain": [
       "   dow  hour  month  year\n",
       "0    0    13      6  2009\n",
       "1    1    11      1  2010\n",
       "2    2    20      8  2011\n",
       "3    5     0      4  2012\n",
       "4    1     2      3  2010"
      ]
     },
     "execution_count": 17,
     "metadata": {},
     "output_type": "execute_result"
    }
   ],
   "source": [
    "# test the TimeFeaturesEncoder\n",
    "\n",
    "time_enc = TimeFeaturesEncoder('pickup_datetime')\n",
    "time_features = time_enc.fit_transform(X_train, y_train)\n",
    "time_features.head()"
   ]
  },
  {
   "cell_type": "markdown",
   "metadata": {},
   "source": [
    "###  Prepocessing pipeline"
   ]
  },
  {
   "cell_type": "code",
   "execution_count": 18,
   "metadata": {},
   "outputs": [],
   "source": [
    "# visualizing pipelines in HTML\n",
    "from sklearn import set_config; set_config(display='diagram')"
   ]
  },
  {
   "cell_type": "markdown",
   "metadata": {},
   "source": [
    "#### Distance pipeline\n",
    "\n",
    "Create a pipeline for distances:\n",
    "- convert the pickup and dropoff coordinates into distances with the DistanceTransformer\n",
    "- standardize these distances"
   ]
  },
  {
   "cell_type": "code",
   "execution_count": 38,
   "metadata": {},
   "outputs": [
    {
     "data": {
      "text/html": [
       "<style>#sk-79bed1dd-9c3f-480e-a00a-3b3f1cc74c1b {color: black;background-color: white;}#sk-79bed1dd-9c3f-480e-a00a-3b3f1cc74c1b pre{padding: 0;}#sk-79bed1dd-9c3f-480e-a00a-3b3f1cc74c1b div.sk-toggleable {background-color: white;}#sk-79bed1dd-9c3f-480e-a00a-3b3f1cc74c1b label.sk-toggleable__label {cursor: pointer;display: block;width: 100%;margin-bottom: 0;padding: 0.3em;box-sizing: border-box;text-align: center;}#sk-79bed1dd-9c3f-480e-a00a-3b3f1cc74c1b div.sk-toggleable__content {max-height: 0;max-width: 0;overflow: hidden;text-align: left;background-color: #f0f8ff;}#sk-79bed1dd-9c3f-480e-a00a-3b3f1cc74c1b div.sk-toggleable__content pre {margin: 0.2em;color: black;border-radius: 0.25em;background-color: #f0f8ff;}#sk-79bed1dd-9c3f-480e-a00a-3b3f1cc74c1b input.sk-toggleable__control:checked~div.sk-toggleable__content {max-height: 200px;max-width: 100%;overflow: auto;}#sk-79bed1dd-9c3f-480e-a00a-3b3f1cc74c1b div.sk-estimator input.sk-toggleable__control:checked~label.sk-toggleable__label {background-color: #d4ebff;}#sk-79bed1dd-9c3f-480e-a00a-3b3f1cc74c1b div.sk-label input.sk-toggleable__control:checked~label.sk-toggleable__label {background-color: #d4ebff;}#sk-79bed1dd-9c3f-480e-a00a-3b3f1cc74c1b input.sk-hidden--visually {border: 0;clip: rect(1px 1px 1px 1px);clip: rect(1px, 1px, 1px, 1px);height: 1px;margin: -1px;overflow: hidden;padding: 0;position: absolute;width: 1px;}#sk-79bed1dd-9c3f-480e-a00a-3b3f1cc74c1b div.sk-estimator {font-family: monospace;background-color: #f0f8ff;border: 1px dotted black;border-radius: 0.25em;box-sizing: border-box;margin-bottom: 0.5em;}#sk-79bed1dd-9c3f-480e-a00a-3b3f1cc74c1b div.sk-estimator:hover {background-color: #d4ebff;}#sk-79bed1dd-9c3f-480e-a00a-3b3f1cc74c1b div.sk-parallel-item::after {content: \"\";width: 100%;border-bottom: 1px solid gray;flex-grow: 1;}#sk-79bed1dd-9c3f-480e-a00a-3b3f1cc74c1b div.sk-label:hover label.sk-toggleable__label {background-color: #d4ebff;}#sk-79bed1dd-9c3f-480e-a00a-3b3f1cc74c1b div.sk-serial::before {content: \"\";position: absolute;border-left: 1px solid gray;box-sizing: border-box;top: 2em;bottom: 0;left: 50%;}#sk-79bed1dd-9c3f-480e-a00a-3b3f1cc74c1b div.sk-serial {display: flex;flex-direction: column;align-items: center;background-color: white;padding-right: 0.2em;padding-left: 0.2em;}#sk-79bed1dd-9c3f-480e-a00a-3b3f1cc74c1b div.sk-item {z-index: 1;}#sk-79bed1dd-9c3f-480e-a00a-3b3f1cc74c1b div.sk-parallel {display: flex;align-items: stretch;justify-content: center;background-color: white;}#sk-79bed1dd-9c3f-480e-a00a-3b3f1cc74c1b div.sk-parallel::before {content: \"\";position: absolute;border-left: 1px solid gray;box-sizing: border-box;top: 2em;bottom: 0;left: 50%;}#sk-79bed1dd-9c3f-480e-a00a-3b3f1cc74c1b div.sk-parallel-item {display: flex;flex-direction: column;position: relative;background-color: white;}#sk-79bed1dd-9c3f-480e-a00a-3b3f1cc74c1b div.sk-parallel-item:first-child::after {align-self: flex-end;width: 50%;}#sk-79bed1dd-9c3f-480e-a00a-3b3f1cc74c1b div.sk-parallel-item:last-child::after {align-self: flex-start;width: 50%;}#sk-79bed1dd-9c3f-480e-a00a-3b3f1cc74c1b div.sk-parallel-item:only-child::after {width: 0;}#sk-79bed1dd-9c3f-480e-a00a-3b3f1cc74c1b div.sk-dashed-wrapped {border: 1px dashed gray;margin: 0 0.4em 0.5em 0.4em;box-sizing: border-box;padding-bottom: 0.4em;background-color: white;position: relative;}#sk-79bed1dd-9c3f-480e-a00a-3b3f1cc74c1b div.sk-label label {font-family: monospace;font-weight: bold;background-color: white;display: inline-block;line-height: 1.2em;}#sk-79bed1dd-9c3f-480e-a00a-3b3f1cc74c1b div.sk-label-container {position: relative;z-index: 2;text-align: center;}#sk-79bed1dd-9c3f-480e-a00a-3b3f1cc74c1b div.sk-container {display: inline-block;position: relative;}</style><div id=\"sk-79bed1dd-9c3f-480e-a00a-3b3f1cc74c1b\" class\"sk-top-container\"><div class=\"sk-container\"><div class=\"sk-item sk-dashed-wrapped\"><div class=\"sk-label-container\"><div class=\"sk-label sk-toggleable\"><input class=\"sk-toggleable__control sk-hidden--visually\" id=\"e760dfa4-4fef-407c-87cf-2f353444f3d7\" type=\"checkbox\" ><label class=\"sk-toggleable__label\" for=\"e760dfa4-4fef-407c-87cf-2f353444f3d7\">Pipeline</label><div class=\"sk-toggleable__content\"><pre>Pipeline(steps=[('distance', DistanceTransformer()),\n",
       "                ('distance scale', StandardScaler())])</pre></div></div></div><div class=\"sk-serial\"><div class=\"sk-item\"><div class=\"sk-estimator sk-toggleable\"><input class=\"sk-toggleable__control sk-hidden--visually\" id=\"862a2f38-084f-4a0e-a34b-fb0ff1a9ab86\" type=\"checkbox\" ><label class=\"sk-toggleable__label\" for=\"862a2f38-084f-4a0e-a34b-fb0ff1a9ab86\">DistanceTransformer</label><div class=\"sk-toggleable__content\"><pre>DistanceTransformer()</pre></div></div></div><div class=\"sk-item\"><div class=\"sk-estimator sk-toggleable\"><input class=\"sk-toggleable__control sk-hidden--visually\" id=\"1fe9bbd7-b875-4010-a25a-8dd4f16ea8ba\" type=\"checkbox\" ><label class=\"sk-toggleable__label\" for=\"1fe9bbd7-b875-4010-a25a-8dd4f16ea8ba\">StandardScaler</label><div class=\"sk-toggleable__content\"><pre>StandardScaler()</pre></div></div></div></div></div></div></div>"
      ],
      "text/plain": [
       "Pipeline(steps=[('distance', DistanceTransformer()),\n",
       "                ('distance scale', StandardScaler())])"
      ]
     },
     "execution_count": 38,
     "metadata": {},
     "output_type": "execute_result"
    }
   ],
   "source": [
    "\n",
    "# create distance pipeline dist_pipe\n",
    "dist_pipe = Pipeline([\n",
    "    ('distance', DistanceTransformer()),\n",
    "    ('distance scale',StandardScaler() )\n",
    "])\n",
    "\n",
    "# display distance pipeline\n",
    "dist_pipe"
   ]
  },
  {
   "cell_type": "markdown",
   "metadata": {},
   "source": [
    "#### Time features pipeline\n",
    "\n",
    "Create a pipeline for time features\n",
    "- extract time features from pickup datetime with the TimeFeaturesEncoder\n",
    "- encode these categorical time features with the OneHotEncoder"
   ]
  },
  {
   "cell_type": "code",
   "execution_count": 22,
   "metadata": {},
   "outputs": [
    {
     "data": {
      "text/html": [
       "<style>#sk-aaf2aca8-5022-4ef2-8a12-3cac906207ae {color: black;background-color: white;}#sk-aaf2aca8-5022-4ef2-8a12-3cac906207ae pre{padding: 0;}#sk-aaf2aca8-5022-4ef2-8a12-3cac906207ae div.sk-toggleable {background-color: white;}#sk-aaf2aca8-5022-4ef2-8a12-3cac906207ae label.sk-toggleable__label {cursor: pointer;display: block;width: 100%;margin-bottom: 0;padding: 0.3em;box-sizing: border-box;text-align: center;}#sk-aaf2aca8-5022-4ef2-8a12-3cac906207ae div.sk-toggleable__content {max-height: 0;max-width: 0;overflow: hidden;text-align: left;background-color: #f0f8ff;}#sk-aaf2aca8-5022-4ef2-8a12-3cac906207ae div.sk-toggleable__content pre {margin: 0.2em;color: black;border-radius: 0.25em;background-color: #f0f8ff;}#sk-aaf2aca8-5022-4ef2-8a12-3cac906207ae input.sk-toggleable__control:checked~div.sk-toggleable__content {max-height: 200px;max-width: 100%;overflow: auto;}#sk-aaf2aca8-5022-4ef2-8a12-3cac906207ae div.sk-estimator input.sk-toggleable__control:checked~label.sk-toggleable__label {background-color: #d4ebff;}#sk-aaf2aca8-5022-4ef2-8a12-3cac906207ae div.sk-label input.sk-toggleable__control:checked~label.sk-toggleable__label {background-color: #d4ebff;}#sk-aaf2aca8-5022-4ef2-8a12-3cac906207ae input.sk-hidden--visually {border: 0;clip: rect(1px 1px 1px 1px);clip: rect(1px, 1px, 1px, 1px);height: 1px;margin: -1px;overflow: hidden;padding: 0;position: absolute;width: 1px;}#sk-aaf2aca8-5022-4ef2-8a12-3cac906207ae div.sk-estimator {font-family: monospace;background-color: #f0f8ff;border: 1px dotted black;border-radius: 0.25em;box-sizing: border-box;margin-bottom: 0.5em;}#sk-aaf2aca8-5022-4ef2-8a12-3cac906207ae div.sk-estimator:hover {background-color: #d4ebff;}#sk-aaf2aca8-5022-4ef2-8a12-3cac906207ae div.sk-parallel-item::after {content: \"\";width: 100%;border-bottom: 1px solid gray;flex-grow: 1;}#sk-aaf2aca8-5022-4ef2-8a12-3cac906207ae div.sk-label:hover label.sk-toggleable__label {background-color: #d4ebff;}#sk-aaf2aca8-5022-4ef2-8a12-3cac906207ae div.sk-serial::before {content: \"\";position: absolute;border-left: 1px solid gray;box-sizing: border-box;top: 2em;bottom: 0;left: 50%;}#sk-aaf2aca8-5022-4ef2-8a12-3cac906207ae div.sk-serial {display: flex;flex-direction: column;align-items: center;background-color: white;padding-right: 0.2em;padding-left: 0.2em;}#sk-aaf2aca8-5022-4ef2-8a12-3cac906207ae div.sk-item {z-index: 1;}#sk-aaf2aca8-5022-4ef2-8a12-3cac906207ae div.sk-parallel {display: flex;align-items: stretch;justify-content: center;background-color: white;}#sk-aaf2aca8-5022-4ef2-8a12-3cac906207ae div.sk-parallel::before {content: \"\";position: absolute;border-left: 1px solid gray;box-sizing: border-box;top: 2em;bottom: 0;left: 50%;}#sk-aaf2aca8-5022-4ef2-8a12-3cac906207ae div.sk-parallel-item {display: flex;flex-direction: column;position: relative;background-color: white;}#sk-aaf2aca8-5022-4ef2-8a12-3cac906207ae div.sk-parallel-item:first-child::after {align-self: flex-end;width: 50%;}#sk-aaf2aca8-5022-4ef2-8a12-3cac906207ae div.sk-parallel-item:last-child::after {align-self: flex-start;width: 50%;}#sk-aaf2aca8-5022-4ef2-8a12-3cac906207ae div.sk-parallel-item:only-child::after {width: 0;}#sk-aaf2aca8-5022-4ef2-8a12-3cac906207ae div.sk-dashed-wrapped {border: 1px dashed gray;margin: 0 0.4em 0.5em 0.4em;box-sizing: border-box;padding-bottom: 0.4em;background-color: white;position: relative;}#sk-aaf2aca8-5022-4ef2-8a12-3cac906207ae div.sk-label label {font-family: monospace;font-weight: bold;background-color: white;display: inline-block;line-height: 1.2em;}#sk-aaf2aca8-5022-4ef2-8a12-3cac906207ae div.sk-label-container {position: relative;z-index: 2;text-align: center;}#sk-aaf2aca8-5022-4ef2-8a12-3cac906207ae div.sk-container {display: inline-block;position: relative;}</style><div id=\"sk-aaf2aca8-5022-4ef2-8a12-3cac906207ae\" class\"sk-top-container\"><div class=\"sk-container\"><div class=\"sk-item sk-dashed-wrapped\"><div class=\"sk-label-container\"><div class=\"sk-label sk-toggleable\"><input class=\"sk-toggleable__control sk-hidden--visually\" id=\"dcfc0d10-5b45-4d2c-959e-0171c3fe1a6b\" type=\"checkbox\" ><label class=\"sk-toggleable__label\" for=\"dcfc0d10-5b45-4d2c-959e-0171c3fe1a6b\">Pipeline</label><div class=\"sk-toggleable__content\"><pre>Pipeline(steps=[('time_features_create',\n",
       "                 TimeFeaturesEncoder(time_column='pickup_datetime')),\n",
       "                ('time_features_ohe',\n",
       "                 OneHotEncoder(handle_unknown='ignore', sparse=False))])</pre></div></div></div><div class=\"sk-serial\"><div class=\"sk-item\"><div class=\"sk-estimator sk-toggleable\"><input class=\"sk-toggleable__control sk-hidden--visually\" id=\"7360b195-717c-49de-822b-a358d4b556a5\" type=\"checkbox\" ><label class=\"sk-toggleable__label\" for=\"7360b195-717c-49de-822b-a358d4b556a5\">TimeFeaturesEncoder</label><div class=\"sk-toggleable__content\"><pre>TimeFeaturesEncoder(time_column='pickup_datetime')</pre></div></div></div><div class=\"sk-item\"><div class=\"sk-estimator sk-toggleable\"><input class=\"sk-toggleable__control sk-hidden--visually\" id=\"2c68c6fd-f303-4897-8b9a-2e6fc22c0c4a\" type=\"checkbox\" ><label class=\"sk-toggleable__label\" for=\"2c68c6fd-f303-4897-8b9a-2e6fc22c0c4a\">OneHotEncoder</label><div class=\"sk-toggleable__content\"><pre>OneHotEncoder(handle_unknown='ignore', sparse=False)</pre></div></div></div></div></div></div></div>"
      ],
      "text/plain": [
       "Pipeline(steps=[('time_features_create',\n",
       "                 TimeFeaturesEncoder(time_column='pickup_datetime')),\n",
       "                ('time_features_ohe',\n",
       "                 OneHotEncoder(handle_unknown='ignore', sparse=False))])"
      ]
     },
     "execution_count": 22,
     "metadata": {},
     "output_type": "execute_result"
    }
   ],
   "source": [
    "from sklearn.pipeline import Pipeline\n",
    "from sklearn.preprocessing import OneHotEncoder\n",
    "\n",
    "# create time pipeline time_pipe\n",
    "\n",
    "pipeTime = Pipeline([\n",
    "    ('time_features_create', TimeFeaturesEncoder('pickup_datetime')),\n",
    "    ('time_features_ohe', OneHotEncoder(handle_unknown='ignore', sparse=False))\n",
    "])\n",
    "# display time pipeline\n",
    "pipeTime"
   ]
  },
  {
   "cell_type": "markdown",
   "metadata": {},
   "source": [
    "#### Preprocessing pipeline\n",
    "\n",
    "Wrap up the distance pipeline and the time pipeline into a preprocessing pipeline."
   ]
  },
  {
   "cell_type": "code",
   "execution_count": 26,
   "metadata": {},
   "outputs": [],
   "source": [
    "from sklearn.compose import ColumnTransformer\n",
    "from sklearn.preprocessing import StandardScaler\n"
   ]
  },
  {
   "cell_type": "code",
   "execution_count": 40,
   "metadata": {},
   "outputs": [
    {
     "data": {
      "text/html": [
       "<style>#sk-8d7b275b-ca50-4f2b-92c3-009c8356ff3b {color: black;background-color: white;}#sk-8d7b275b-ca50-4f2b-92c3-009c8356ff3b pre{padding: 0;}#sk-8d7b275b-ca50-4f2b-92c3-009c8356ff3b div.sk-toggleable {background-color: white;}#sk-8d7b275b-ca50-4f2b-92c3-009c8356ff3b label.sk-toggleable__label {cursor: pointer;display: block;width: 100%;margin-bottom: 0;padding: 0.3em;box-sizing: border-box;text-align: center;}#sk-8d7b275b-ca50-4f2b-92c3-009c8356ff3b div.sk-toggleable__content {max-height: 0;max-width: 0;overflow: hidden;text-align: left;background-color: #f0f8ff;}#sk-8d7b275b-ca50-4f2b-92c3-009c8356ff3b div.sk-toggleable__content pre {margin: 0.2em;color: black;border-radius: 0.25em;background-color: #f0f8ff;}#sk-8d7b275b-ca50-4f2b-92c3-009c8356ff3b input.sk-toggleable__control:checked~div.sk-toggleable__content {max-height: 200px;max-width: 100%;overflow: auto;}#sk-8d7b275b-ca50-4f2b-92c3-009c8356ff3b div.sk-estimator input.sk-toggleable__control:checked~label.sk-toggleable__label {background-color: #d4ebff;}#sk-8d7b275b-ca50-4f2b-92c3-009c8356ff3b div.sk-label input.sk-toggleable__control:checked~label.sk-toggleable__label {background-color: #d4ebff;}#sk-8d7b275b-ca50-4f2b-92c3-009c8356ff3b input.sk-hidden--visually {border: 0;clip: rect(1px 1px 1px 1px);clip: rect(1px, 1px, 1px, 1px);height: 1px;margin: -1px;overflow: hidden;padding: 0;position: absolute;width: 1px;}#sk-8d7b275b-ca50-4f2b-92c3-009c8356ff3b div.sk-estimator {font-family: monospace;background-color: #f0f8ff;border: 1px dotted black;border-radius: 0.25em;box-sizing: border-box;margin-bottom: 0.5em;}#sk-8d7b275b-ca50-4f2b-92c3-009c8356ff3b div.sk-estimator:hover {background-color: #d4ebff;}#sk-8d7b275b-ca50-4f2b-92c3-009c8356ff3b div.sk-parallel-item::after {content: \"\";width: 100%;border-bottom: 1px solid gray;flex-grow: 1;}#sk-8d7b275b-ca50-4f2b-92c3-009c8356ff3b div.sk-label:hover label.sk-toggleable__label {background-color: #d4ebff;}#sk-8d7b275b-ca50-4f2b-92c3-009c8356ff3b div.sk-serial::before {content: \"\";position: absolute;border-left: 1px solid gray;box-sizing: border-box;top: 2em;bottom: 0;left: 50%;}#sk-8d7b275b-ca50-4f2b-92c3-009c8356ff3b div.sk-serial {display: flex;flex-direction: column;align-items: center;background-color: white;padding-right: 0.2em;padding-left: 0.2em;}#sk-8d7b275b-ca50-4f2b-92c3-009c8356ff3b div.sk-item {z-index: 1;}#sk-8d7b275b-ca50-4f2b-92c3-009c8356ff3b div.sk-parallel {display: flex;align-items: stretch;justify-content: center;background-color: white;}#sk-8d7b275b-ca50-4f2b-92c3-009c8356ff3b div.sk-parallel::before {content: \"\";position: absolute;border-left: 1px solid gray;box-sizing: border-box;top: 2em;bottom: 0;left: 50%;}#sk-8d7b275b-ca50-4f2b-92c3-009c8356ff3b div.sk-parallel-item {display: flex;flex-direction: column;position: relative;background-color: white;}#sk-8d7b275b-ca50-4f2b-92c3-009c8356ff3b div.sk-parallel-item:first-child::after {align-self: flex-end;width: 50%;}#sk-8d7b275b-ca50-4f2b-92c3-009c8356ff3b div.sk-parallel-item:last-child::after {align-self: flex-start;width: 50%;}#sk-8d7b275b-ca50-4f2b-92c3-009c8356ff3b div.sk-parallel-item:only-child::after {width: 0;}#sk-8d7b275b-ca50-4f2b-92c3-009c8356ff3b div.sk-dashed-wrapped {border: 1px dashed gray;margin: 0 0.4em 0.5em 0.4em;box-sizing: border-box;padding-bottom: 0.4em;background-color: white;position: relative;}#sk-8d7b275b-ca50-4f2b-92c3-009c8356ff3b div.sk-label label {font-family: monospace;font-weight: bold;background-color: white;display: inline-block;line-height: 1.2em;}#sk-8d7b275b-ca50-4f2b-92c3-009c8356ff3b div.sk-label-container {position: relative;z-index: 2;text-align: center;}#sk-8d7b275b-ca50-4f2b-92c3-009c8356ff3b div.sk-container {display: inline-block;position: relative;}</style><div id=\"sk-8d7b275b-ca50-4f2b-92c3-009c8356ff3b\" class\"sk-top-container\"><div class=\"sk-container\"><div class=\"sk-item sk-dashed-wrapped\"><div class=\"sk-label-container\"><div class=\"sk-label sk-toggleable\"><input class=\"sk-toggleable__control sk-hidden--visually\" id=\"67a07b66-250b-4982-ba84-6b1d1ba20074\" type=\"checkbox\" ><label class=\"sk-toggleable__label\" for=\"67a07b66-250b-4982-ba84-6b1d1ba20074\">ColumnTransformer</label><div class=\"sk-toggleable__content\"><pre>ColumnTransformer(transformers=[('distance',\n",
       "                                 Pipeline(steps=[('distance',\n",
       "                                                  DistanceTransformer()),\n",
       "                                                 ('distance scale',\n",
       "                                                  StandardScaler())]),\n",
       "                                 ['pickup_longitude', 'pickup_latitude',\n",
       "                                  'dropoff_longitude', 'dropoff_latitude']),\n",
       "                                ('time',\n",
       "                                 Pipeline(steps=[('time_features_create',\n",
       "                                                  TimeFeaturesEncoder(time_column='pickup_datetime')),\n",
       "                                                 ('time_features_ohe',\n",
       "                                                  OneHotEncoder(handle_unknown='ignore',\n",
       "                                                                sparse=False))]),\n",
       "                                 ['pickup_datetime'])])</pre></div></div></div><div class=\"sk-parallel\"><div class=\"sk-parallel-item\"><div class=\"sk-item\"><div class=\"sk-label-container\"><div class=\"sk-label sk-toggleable\"><input class=\"sk-toggleable__control sk-hidden--visually\" id=\"0a4f61c7-f0f9-4922-a45d-856f1e588d84\" type=\"checkbox\" ><label class=\"sk-toggleable__label\" for=\"0a4f61c7-f0f9-4922-a45d-856f1e588d84\">distance</label><div class=\"sk-toggleable__content\"><pre>['pickup_longitude', 'pickup_latitude', 'dropoff_longitude', 'dropoff_latitude']</pre></div></div></div><div class=\"sk-serial\"><div class=\"sk-item\"><div class=\"sk-serial\"><div class=\"sk-item\"><div class=\"sk-estimator sk-toggleable\"><input class=\"sk-toggleable__control sk-hidden--visually\" id=\"c9090d18-8932-400e-b2f3-cb82951890e4\" type=\"checkbox\" ><label class=\"sk-toggleable__label\" for=\"c9090d18-8932-400e-b2f3-cb82951890e4\">DistanceTransformer</label><div class=\"sk-toggleable__content\"><pre>DistanceTransformer()</pre></div></div></div><div class=\"sk-item\"><div class=\"sk-estimator sk-toggleable\"><input class=\"sk-toggleable__control sk-hidden--visually\" id=\"8b9dee7c-6088-43a5-a622-3fd16a9c1dbc\" type=\"checkbox\" ><label class=\"sk-toggleable__label\" for=\"8b9dee7c-6088-43a5-a622-3fd16a9c1dbc\">StandardScaler</label><div class=\"sk-toggleable__content\"><pre>StandardScaler()</pre></div></div></div></div></div></div></div></div><div class=\"sk-parallel-item\"><div class=\"sk-item\"><div class=\"sk-label-container\"><div class=\"sk-label sk-toggleable\"><input class=\"sk-toggleable__control sk-hidden--visually\" id=\"4d54bec8-4712-42c3-8de2-ef9a6316b106\" type=\"checkbox\" ><label class=\"sk-toggleable__label\" for=\"4d54bec8-4712-42c3-8de2-ef9a6316b106\">time</label><div class=\"sk-toggleable__content\"><pre>['pickup_datetime']</pre></div></div></div><div class=\"sk-serial\"><div class=\"sk-item\"><div class=\"sk-serial\"><div class=\"sk-item\"><div class=\"sk-estimator sk-toggleable\"><input class=\"sk-toggleable__control sk-hidden--visually\" id=\"b9fb6bc8-e60d-4c88-9156-c1ca4aedf15b\" type=\"checkbox\" ><label class=\"sk-toggleable__label\" for=\"b9fb6bc8-e60d-4c88-9156-c1ca4aedf15b\">TimeFeaturesEncoder</label><div class=\"sk-toggleable__content\"><pre>TimeFeaturesEncoder(time_column='pickup_datetime')</pre></div></div></div><div class=\"sk-item\"><div class=\"sk-estimator sk-toggleable\"><input class=\"sk-toggleable__control sk-hidden--visually\" id=\"3b6de4a2-02de-4d79-9e54-fb7edb2082d4\" type=\"checkbox\" ><label class=\"sk-toggleable__label\" for=\"3b6de4a2-02de-4d79-9e54-fb7edb2082d4\">OneHotEncoder</label><div class=\"sk-toggleable__content\"><pre>OneHotEncoder(handle_unknown='ignore', sparse=False)</pre></div></div></div></div></div></div></div></div></div></div></div></div>"
      ],
      "text/plain": [
       "ColumnTransformer(transformers=[('distance',\n",
       "                                 Pipeline(steps=[('distance',\n",
       "                                                  DistanceTransformer()),\n",
       "                                                 ('distance scale',\n",
       "                                                  StandardScaler())]),\n",
       "                                 ['pickup_longitude', 'pickup_latitude',\n",
       "                                  'dropoff_longitude', 'dropoff_latitude']),\n",
       "                                ('time',\n",
       "                                 Pipeline(steps=[('time_features_create',\n",
       "                                                  TimeFeaturesEncoder(time_column='pickup_datetime')),\n",
       "                                                 ('time_features_ohe',\n",
       "                                                  OneHotEncoder(handle_unknown='ignore',\n",
       "                                                                sparse=False))]),\n",
       "                                 ['pickup_datetime'])])"
      ]
     },
     "execution_count": 40,
     "metadata": {},
     "output_type": "execute_result"
    }
   ],
   "source": [
    "preprocessor = ColumnTransformer([\n",
    "    ('distance',dist_pipe, ['pickup_longitude', 'pickup_latitude', 'dropoff_longitude', 'dropoff_latitude']),\n",
    "    ('time', pipeTime, ['pickup_datetime'])\n",
    "])\n",
    "preprocessor"
   ]
  },
  {
   "cell_type": "markdown",
   "metadata": {},
   "source": [
    "### Model pipeline\n",
    "\n",
    "Create a pipeline containing the preprocessing and the regression model of your choice."
   ]
  },
  {
   "cell_type": "code",
   "execution_count": 42,
   "metadata": {},
   "outputs": [
    {
     "data": {
      "text/html": [
       "<style>#sk-5fada7ce-6903-486f-bc00-4cd1d1b23141 {color: black;background-color: white;}#sk-5fada7ce-6903-486f-bc00-4cd1d1b23141 pre{padding: 0;}#sk-5fada7ce-6903-486f-bc00-4cd1d1b23141 div.sk-toggleable {background-color: white;}#sk-5fada7ce-6903-486f-bc00-4cd1d1b23141 label.sk-toggleable__label {cursor: pointer;display: block;width: 100%;margin-bottom: 0;padding: 0.3em;box-sizing: border-box;text-align: center;}#sk-5fada7ce-6903-486f-bc00-4cd1d1b23141 div.sk-toggleable__content {max-height: 0;max-width: 0;overflow: hidden;text-align: left;background-color: #f0f8ff;}#sk-5fada7ce-6903-486f-bc00-4cd1d1b23141 div.sk-toggleable__content pre {margin: 0.2em;color: black;border-radius: 0.25em;background-color: #f0f8ff;}#sk-5fada7ce-6903-486f-bc00-4cd1d1b23141 input.sk-toggleable__control:checked~div.sk-toggleable__content {max-height: 200px;max-width: 100%;overflow: auto;}#sk-5fada7ce-6903-486f-bc00-4cd1d1b23141 div.sk-estimator input.sk-toggleable__control:checked~label.sk-toggleable__label {background-color: #d4ebff;}#sk-5fada7ce-6903-486f-bc00-4cd1d1b23141 div.sk-label input.sk-toggleable__control:checked~label.sk-toggleable__label {background-color: #d4ebff;}#sk-5fada7ce-6903-486f-bc00-4cd1d1b23141 input.sk-hidden--visually {border: 0;clip: rect(1px 1px 1px 1px);clip: rect(1px, 1px, 1px, 1px);height: 1px;margin: -1px;overflow: hidden;padding: 0;position: absolute;width: 1px;}#sk-5fada7ce-6903-486f-bc00-4cd1d1b23141 div.sk-estimator {font-family: monospace;background-color: #f0f8ff;border: 1px dotted black;border-radius: 0.25em;box-sizing: border-box;margin-bottom: 0.5em;}#sk-5fada7ce-6903-486f-bc00-4cd1d1b23141 div.sk-estimator:hover {background-color: #d4ebff;}#sk-5fada7ce-6903-486f-bc00-4cd1d1b23141 div.sk-parallel-item::after {content: \"\";width: 100%;border-bottom: 1px solid gray;flex-grow: 1;}#sk-5fada7ce-6903-486f-bc00-4cd1d1b23141 div.sk-label:hover label.sk-toggleable__label {background-color: #d4ebff;}#sk-5fada7ce-6903-486f-bc00-4cd1d1b23141 div.sk-serial::before {content: \"\";position: absolute;border-left: 1px solid gray;box-sizing: border-box;top: 2em;bottom: 0;left: 50%;}#sk-5fada7ce-6903-486f-bc00-4cd1d1b23141 div.sk-serial {display: flex;flex-direction: column;align-items: center;background-color: white;padding-right: 0.2em;padding-left: 0.2em;}#sk-5fada7ce-6903-486f-bc00-4cd1d1b23141 div.sk-item {z-index: 1;}#sk-5fada7ce-6903-486f-bc00-4cd1d1b23141 div.sk-parallel {display: flex;align-items: stretch;justify-content: center;background-color: white;}#sk-5fada7ce-6903-486f-bc00-4cd1d1b23141 div.sk-parallel::before {content: \"\";position: absolute;border-left: 1px solid gray;box-sizing: border-box;top: 2em;bottom: 0;left: 50%;}#sk-5fada7ce-6903-486f-bc00-4cd1d1b23141 div.sk-parallel-item {display: flex;flex-direction: column;position: relative;background-color: white;}#sk-5fada7ce-6903-486f-bc00-4cd1d1b23141 div.sk-parallel-item:first-child::after {align-self: flex-end;width: 50%;}#sk-5fada7ce-6903-486f-bc00-4cd1d1b23141 div.sk-parallel-item:last-child::after {align-self: flex-start;width: 50%;}#sk-5fada7ce-6903-486f-bc00-4cd1d1b23141 div.sk-parallel-item:only-child::after {width: 0;}#sk-5fada7ce-6903-486f-bc00-4cd1d1b23141 div.sk-dashed-wrapped {border: 1px dashed gray;margin: 0 0.4em 0.5em 0.4em;box-sizing: border-box;padding-bottom: 0.4em;background-color: white;position: relative;}#sk-5fada7ce-6903-486f-bc00-4cd1d1b23141 div.sk-label label {font-family: monospace;font-weight: bold;background-color: white;display: inline-block;line-height: 1.2em;}#sk-5fada7ce-6903-486f-bc00-4cd1d1b23141 div.sk-label-container {position: relative;z-index: 2;text-align: center;}#sk-5fada7ce-6903-486f-bc00-4cd1d1b23141 div.sk-container {display: inline-block;position: relative;}</style><div id=\"sk-5fada7ce-6903-486f-bc00-4cd1d1b23141\" class\"sk-top-container\"><div class=\"sk-container\"><div class=\"sk-item sk-dashed-wrapped\"><div class=\"sk-label-container\"><div class=\"sk-label sk-toggleable\"><input class=\"sk-toggleable__control sk-hidden--visually\" id=\"247cb0ae-0a76-46b6-b361-17872578e0d6\" type=\"checkbox\" ><label class=\"sk-toggleable__label\" for=\"247cb0ae-0a76-46b6-b361-17872578e0d6\">Pipeline</label><div class=\"sk-toggleable__content\"><pre>Pipeline(steps=[('dist_and_time',\n",
       "                 ColumnTransformer(transformers=[('distance',\n",
       "                                                  Pipeline(steps=[('distance',\n",
       "                                                                   DistanceTransformer()),\n",
       "                                                                  ('distance '\n",
       "                                                                   'scale',\n",
       "                                                                   StandardScaler())]),\n",
       "                                                  ['pickup_longitude',\n",
       "                                                   'pickup_latitude',\n",
       "                                                   'dropoff_longitude',\n",
       "                                                   'dropoff_latitude']),\n",
       "                                                 ('time',\n",
       "                                                  Pipeline(steps=[('time_features_create',\n",
       "                                                                   TimeFeaturesEncoder(time_column='pickup_datetime')),\n",
       "                                                                  ('time_features_ohe',\n",
       "                                                                   OneHotEncoder(handle_unknown='ignore',\n",
       "                                                                                 sparse=False))]),\n",
       "                                                  ['pickup_datetime'])])),\n",
       "                ('regLinear', LinearRegression())])</pre></div></div></div><div class=\"sk-serial\"><div class=\"sk-item sk-dashed-wrapped\"><div class=\"sk-label-container\"><div class=\"sk-label sk-toggleable\"><input class=\"sk-toggleable__control sk-hidden--visually\" id=\"17f79f9e-bde6-4b06-9b00-a23c122c7b30\" type=\"checkbox\" ><label class=\"sk-toggleable__label\" for=\"17f79f9e-bde6-4b06-9b00-a23c122c7b30\">dist_and_time: ColumnTransformer</label><div class=\"sk-toggleable__content\"><pre>ColumnTransformer(transformers=[('distance',\n",
       "                                 Pipeline(steps=[('distance',\n",
       "                                                  DistanceTransformer()),\n",
       "                                                 ('distance scale',\n",
       "                                                  StandardScaler())]),\n",
       "                                 ['pickup_longitude', 'pickup_latitude',\n",
       "                                  'dropoff_longitude', 'dropoff_latitude']),\n",
       "                                ('time',\n",
       "                                 Pipeline(steps=[('time_features_create',\n",
       "                                                  TimeFeaturesEncoder(time_column='pickup_datetime')),\n",
       "                                                 ('time_features_ohe',\n",
       "                                                  OneHotEncoder(handle_unknown='ignore',\n",
       "                                                                sparse=False))]),\n",
       "                                 ['pickup_datetime'])])</pre></div></div></div><div class=\"sk-parallel\"><div class=\"sk-parallel-item\"><div class=\"sk-item\"><div class=\"sk-label-container\"><div class=\"sk-label sk-toggleable\"><input class=\"sk-toggleable__control sk-hidden--visually\" id=\"7caa8698-0e86-4bf0-a7a6-0ad1eb3591d2\" type=\"checkbox\" ><label class=\"sk-toggleable__label\" for=\"7caa8698-0e86-4bf0-a7a6-0ad1eb3591d2\">distance</label><div class=\"sk-toggleable__content\"><pre>['pickup_longitude', 'pickup_latitude', 'dropoff_longitude', 'dropoff_latitude']</pre></div></div></div><div class=\"sk-serial\"><div class=\"sk-item\"><div class=\"sk-serial\"><div class=\"sk-item\"><div class=\"sk-estimator sk-toggleable\"><input class=\"sk-toggleable__control sk-hidden--visually\" id=\"9ed6a7e5-98ec-4b49-9e43-2dc215f41450\" type=\"checkbox\" ><label class=\"sk-toggleable__label\" for=\"9ed6a7e5-98ec-4b49-9e43-2dc215f41450\">DistanceTransformer</label><div class=\"sk-toggleable__content\"><pre>DistanceTransformer()</pre></div></div></div><div class=\"sk-item\"><div class=\"sk-estimator sk-toggleable\"><input class=\"sk-toggleable__control sk-hidden--visually\" id=\"3d11fc9a-52a4-4a64-9139-4cac0d870a33\" type=\"checkbox\" ><label class=\"sk-toggleable__label\" for=\"3d11fc9a-52a4-4a64-9139-4cac0d870a33\">StandardScaler</label><div class=\"sk-toggleable__content\"><pre>StandardScaler()</pre></div></div></div></div></div></div></div></div><div class=\"sk-parallel-item\"><div class=\"sk-item\"><div class=\"sk-label-container\"><div class=\"sk-label sk-toggleable\"><input class=\"sk-toggleable__control sk-hidden--visually\" id=\"38ac0083-7839-4684-8eac-b988280ca152\" type=\"checkbox\" ><label class=\"sk-toggleable__label\" for=\"38ac0083-7839-4684-8eac-b988280ca152\">time</label><div class=\"sk-toggleable__content\"><pre>['pickup_datetime']</pre></div></div></div><div class=\"sk-serial\"><div class=\"sk-item\"><div class=\"sk-serial\"><div class=\"sk-item\"><div class=\"sk-estimator sk-toggleable\"><input class=\"sk-toggleable__control sk-hidden--visually\" id=\"9b254f41-96af-4e73-b53f-761f6f9aa969\" type=\"checkbox\" ><label class=\"sk-toggleable__label\" for=\"9b254f41-96af-4e73-b53f-761f6f9aa969\">TimeFeaturesEncoder</label><div class=\"sk-toggleable__content\"><pre>TimeFeaturesEncoder(time_column='pickup_datetime')</pre></div></div></div><div class=\"sk-item\"><div class=\"sk-estimator sk-toggleable\"><input class=\"sk-toggleable__control sk-hidden--visually\" id=\"a448c7de-87eb-4c23-8fb6-f23349919278\" type=\"checkbox\" ><label class=\"sk-toggleable__label\" for=\"a448c7de-87eb-4c23-8fb6-f23349919278\">OneHotEncoder</label><div class=\"sk-toggleable__content\"><pre>OneHotEncoder(handle_unknown='ignore', sparse=False)</pre></div></div></div></div></div></div></div></div></div></div><div class=\"sk-item\"><div class=\"sk-estimator sk-toggleable\"><input class=\"sk-toggleable__control sk-hidden--visually\" id=\"37f22da4-a0df-46b0-aa5b-9cbc89a8c495\" type=\"checkbox\" ><label class=\"sk-toggleable__label\" for=\"37f22da4-a0df-46b0-aa5b-9cbc89a8c495\">LinearRegression</label><div class=\"sk-toggleable__content\"><pre>LinearRegression()</pre></div></div></div></div></div></div></div>"
      ],
      "text/plain": [
       "Pipeline(steps=[('dist_and_time',\n",
       "                 ColumnTransformer(transformers=[('distance',\n",
       "                                                  Pipeline(steps=[('distance',\n",
       "                                                                   DistanceTransformer()),\n",
       "                                                                  ('distance '\n",
       "                                                                   'scale',\n",
       "                                                                   StandardScaler())]),\n",
       "                                                  ['pickup_longitude',\n",
       "                                                   'pickup_latitude',\n",
       "                                                   'dropoff_longitude',\n",
       "                                                   'dropoff_latitude']),\n",
       "                                                 ('time',\n",
       "                                                  Pipeline(steps=[('time_features_create',\n",
       "                                                                   TimeFeaturesEncoder(time_column='pickup_datetime')),\n",
       "                                                                  ('time_features_ohe',\n",
       "                                                                   OneHotEncoder(handle_unknown='ignore',\n",
       "                                                                                 sparse=False))]),\n",
       "                                                  ['pickup_datetime'])])),\n",
       "                ('regLinear', LinearRegression())])"
      ]
     },
     "execution_count": 42,
     "metadata": {},
     "output_type": "execute_result"
    }
   ],
   "source": [
    "from sklearn.linear_model import LinearRegression\n",
    "\n",
    "# Add the model of your choice to the pipeline nammed pipe\n",
    "pipe = Pipeline([\n",
    "    ('dist_and_time', preprocessor),\n",
    "    ('regLinear', LinearRegression())\n",
    "])\n",
    "# display the pipeline with model\n",
    "pipe"
   ]
  },
  {
   "cell_type": "markdown",
   "metadata": {},
   "source": [
    "### Training and performance"
   ]
  },
  {
   "cell_type": "markdown",
   "metadata": {},
   "source": [
    "Train the pipelined model and compute the prediction on the test set:"
   ]
  },
  {
   "cell_type": "code",
   "execution_count": 61,
   "metadata": {},
   "outputs": [],
   "source": [
    "# train the pipelined model\n",
    "pipe.fit(X_train, y_train)\n",
    "\n",
    "# compute y_pred on the test set\n",
    "y_pred = pipe.predict(X_test)"
   ]
  },
  {
   "cell_type": "markdown",
   "metadata": {},
   "source": [
    "Use the RMSE to evaluate the performance of the model:"
   ]
  },
  {
   "cell_type": "code",
   "execution_count": 62,
   "metadata": {},
   "outputs": [
    {
     "data": {
      "text/plain": [
       "array([15.10302734,  8.08349609,  9.93457031,  9.40771484, 13.69873047,\n",
       "        5.76269531, 35.18261719, 10.39160156,  5.17089844, 52.62890625,\n",
       "        7.99072266,  5.61914062, 11.1328125 , 31.03027344,  4.07080078,\n",
       "        7.91943359,  4.51904297, 15.46435547,  6.79638672,  6.00097656,\n",
       "        7.09277344, 13.66162109,  5.19970703,  0.87744141,  5.94970703,\n",
       "        2.14550781,  3.91699219,  7.42480469, 11.50537109,  6.9609375 ,\n",
       "        3.12646484, 36.1796875 ,  9.93115234,  4.26367188,  6.26220703,\n",
       "        9.47607422, 10.45410156, 11.90771484,  6.98583984, 14.82324219,\n",
       "        8.76953125, 12.43994141,  3.17236328,  3.92431641,  8.02246094,\n",
       "        6.57177734, 25.72607422,  3.74853516,  9.58300781, 15.65576172,\n",
       "        8.20800781, 18.98193359,  8.08789062,  8.75927734, 18.67626953,\n",
       "        5.39111328,  9.20654297, 14.72216797, 11.86132812,  9.56542969,\n",
       "        6.68652344,  9.63476562, 16.89404297,  4.75537109,  6.83007812,\n",
       "        5.85107422, 10.48144531, 25.12304688,  9.97900391, 11.52685547,\n",
       "       10.05859375, 12.05322266, 26.36181641,  6.09375   ,  8.48730469,\n",
       "        6.07763672,  7.35791016,  9.47900391, 18.84521484, 11.86083984,\n",
       "        9.57226562,  9.18164062, 14.03173828,  8.09179688, 11.13769531,\n",
       "        3.73632812, 10.74902344,  5.05615234, 15.29931641,  8.77636719,\n",
       "        7.73242188, 23.29785156, 16.09814453,  9.42822266, 11.32470703,\n",
       "        7.55957031, 46.51220703,  7.46728516, 10.55419922, 45.17431641,\n",
       "       14.33154297,  6.20410156,  4.77001953, 26.48242188,  9.27001953,\n",
       "       12.25585938,  6.61865234,  5.36572266, 12.84130859,  7.98291016,\n",
       "       12.49658203, 14.00927734,  8.24560547,  9.65380859,  9.37060547,\n",
       "        9.05078125, 12.69091797, 10.05908203,  9.51708984, 10.96679688,\n",
       "       15.13525391, 12.00830078,  3.50683594,  5.45849609, 14.64257812,\n",
       "        5.77001953, 13.44482422,  5.89941406,  5.57128906, 11.18945312,\n",
       "       12.34667969,  7.27294922,  7.91552734, 19.17431641, 14.12841797,\n",
       "        9.27197266,  5.21044922,  7.10742188, 11.52197266,  6.34814453,\n",
       "       25.05712891,  7.13916016, 10.1953125 , 14.27001953,  8.44140625,\n",
       "        5.86816406,  7.15722656, 10.20849609,  7.1875    , 10.64501953,\n",
       "       13.52734375, 12.83496094, 20.35693359,  7.28369141,  6.33154297,\n",
       "        8.25439453,  8.84472656,  6.86425781,  7.63427734,  4.63134766,\n",
       "       16.60791016, 10.66162109,  6.62548828,  8.85986328,  8.00341797,\n",
       "       10.00634766, 10.86962891,  9.15478516,  8.68798828, 12.51806641,\n",
       "       20.34912109, 21.43408203, 17.70068359,  2.32519531,  5.11279297,\n",
       "       11.59472656,  8.89257812, 10.72021484,  8.93505859, 12.70947266,\n",
       "        7.10888672,  5.14453125, 22.67529297,  4.15087891, 10.88525391,\n",
       "       14.41748047,  7.39697266, 10.08105469,  1.99560547,  9.47119141,\n",
       "        6.51318359, 11.30615234,  4.21826172,  9.69873047, 12.07763672,\n",
       "        6.95556641,  9.58251953,  4.02001953,  8.11083984,  6.89697266,\n",
       "       13.39208984, 13.93847656,  9.12451172, 22.56689453, 12.76806641,\n",
       "       17.07714844,  8.93798828, 13.25097656,  7.16943359,  9.83837891,\n",
       "        7.59033203, 23.58398438, 13.32275391, 26.78955078,  6.54492188,\n",
       "       19.04296875, 15.68408203,  5.77880859,  8.83251953,  6.29003906,\n",
       "       12.86083984, 11.95263672,  7.27685547,  3.77441406,  5.02392578,\n",
       "        5.31298828,  7.58642578,  8.72314453,  9.67382812,  7.72802734,\n",
       "        6.95458984,  7.86474609, 10.61132812, 15.8515625 , 18.75390625,\n",
       "       12.44238281, 11.74169922,  5.27490234,  9.39697266, 26.55029297,\n",
       "       12.39892578,  8.91845703, 16.87255859,  6.15576172,  6.19580078,\n",
       "       10.62841797, 10.94091797,  5.72119141, 21.07324219, 10.59619141,\n",
       "        9.06640625, 14.60546875,  8.06640625, 19.67626953, 12.15283203,\n",
       "        7.08789062,  3.79296875,  7.16943359, 16.14306641, 15.08935547,\n",
       "        1.84472656, 12.44677734,  6.29052734,  9.41601562,  8.86962891,\n",
       "        5.33349609,  8.77685547,  7.27685547,  4.77294922,  5.64599609,\n",
       "        9.32373047, 12.26318359, 18.20458984,  7.49169922,  9.47851562,\n",
       "        6.50244141,  8.61083984])"
      ]
     },
     "execution_count": 62,
     "metadata": {},
     "output_type": "execute_result"
    }
   ],
   "source": [
    "y_pred"
   ]
  },
  {
   "cell_type": "code",
   "execution_count": 63,
   "metadata": {},
   "outputs": [],
   "source": [
    "import numpy as np\n",
    "def compute_rmse(y_test, y_pred):\n",
    "    \n",
    "    return np.sqrt(np.mean(np.square(y_test - y_pred)))"
   ]
  },
  {
   "cell_type": "code",
   "execution_count": 59,
   "metadata": {},
   "outputs": [
    {
     "data": {
      "text/plain": [
       "nan"
      ]
     },
     "execution_count": 59,
     "metadata": {},
     "output_type": "execute_result"
    }
   ],
   "source": [
    "compute_rmse(y_pred, y_test)"
   ]
  },
  {
   "cell_type": "code",
   "execution_count": 64,
   "metadata": {},
   "outputs": [
    {
     "data": {
      "text/plain": [
       "4.830248313694628"
      ]
     },
     "execution_count": 64,
     "metadata": {},
     "output_type": "execute_result"
    }
   ],
   "source": [
    "compute_rmse(y_pred, y_test)"
   ]
  },
  {
   "cell_type": "code",
   "execution_count": 19,
   "metadata": {
    "scrolled": true
   },
   "outputs": [
    {
     "data": {
      "text/plain": [
       "10.175329127383847"
      ]
     },
     "execution_count": 19,
     "metadata": {},
     "output_type": "execute_result"
    }
   ],
   "source": [
    "# call compute_rmse\n",
    "compute_rmse(y_pred, y_test)"
   ]
  },
  {
   "cell_type": "markdown",
   "metadata": {},
   "source": [
    "## Complete the workflow with a pipeline"
   ]
  },
  {
   "cell_type": "markdown",
   "metadata": {},
   "source": [
    "Here we will implement the whole workflow for our Taxifare kaggle challenge.\n",
    "\n",
    "For that we will refactor the code in functions for more clarity.\n",
    "\n",
    "Implement the following functions:\n",
    "- `get_data()` to fetch the data \n",
    "- `clean_data()` to clean the data\n",
    "- `get_pipeline()` to get the pipeline defined earlier\n",
    "- `train()` to train our model\n",
    "- `evaluate()` to evaluate our model on test data"
   ]
  },
  {
   "cell_type": "code",
   "execution_count": 65,
   "metadata": {},
   "outputs": [],
   "source": [
    "# implement get_data() function\n",
    "def get_data(nrows=10000):\n",
    "    '''returns a DataFrame with nrows from s3 bucket'''\n",
    "    df = pd.read_csv(\"C:\\\\Users\\\\Joe\\\\Desktop\\\\py\\\\workflow\\\\train.csv\", nrows=1000,parse_dates=['pickup_datetime'])\n",
    "    return df"
   ]
  },
  {
   "cell_type": "code",
   "execution_count": 66,
   "metadata": {},
   "outputs": [],
   "source": [
    "# implement clean_data() function\n",
    "def clean_data(df, test=False):\n",
    "    '''returns a DataFrame without outliers and missing values'''\n",
    "    df = df.drop([\"key\"], axis=1)\n",
    "    df = df.dropna(how='any', axis='rows')\n",
    "    df = df[(df.dropoff_latitude != 0) | (df.dropoff_longitude != 0)]\n",
    "    df = df[(df.pickup_latitude != 0) | (df.pickup_longitude != 0)]\n",
    "    if \"fare_amount\" in list(df):\n",
    "        df = df[df.fare_amount.between(0, 4000)]\n",
    "    df = df[df.passenger_count < 8]\n",
    "    df = df[df.passenger_count >= 0]\n",
    "    df = df[df[\"pickup_latitude\"].between(left=40, right=42)]\n",
    "    df = df[df[\"pickup_longitude\"].between(left=-74.3, right=-72.9)]\n",
    "    df = df[df[\"dropoff_latitude\"].between(left=40, right=42)]\n",
    "    df = df[df[\"dropoff_longitude\"].between(left=-74, right=-72.9)]\n",
    "    return df"
   ]
  },
  {
   "cell_type": "code",
   "execution_count": 68,
   "metadata": {},
   "outputs": [],
   "source": [
    "# implement set_pipeline() function\n",
    "def set_pipeline():\n",
    "    pipe = Pipeline([\n",
    "        ('dist_and_time', preprocessor),\n",
    "        ('regLinear', LinearRegression())\n",
    "    ])\n",
    "    return pipe"
   ]
  },
  {
   "cell_type": "code",
   "execution_count": 69,
   "metadata": {},
   "outputs": [],
   "source": [
    "# implement train() function\n",
    "def train(X_train, y_train, pipe):\n",
    "    pipe.fit(X_train, y_train)\n",
    "    return pipeline"
   ]
  },
  {
   "cell_type": "code",
   "execution_count": 70,
   "metadata": {},
   "outputs": [],
   "source": [
    "# implement evaluate() function\n",
    "def evaluate(X_test, y_test, pipeline):\n",
    "    y_pred = pipe.predict(X_test)\n",
    "    rmse = np.sqrt(np.mean(np.square(y_test - y_pred)))\n",
    "    print(rmse)\n",
    "    return rmse"
   ]
  },
  {
   "cell_type": "code",
   "execution_count": 73,
   "metadata": {},
   "outputs": [
    {
     "name": "stdout",
     "output_type": "stream",
     "text": [
      "4.830248313694628\n"
     ]
    },
    {
     "data": {
      "text/plain": [
       "4.830248313694628"
      ]
     },
     "execution_count": 73,
     "metadata": {},
     "output_type": "execute_result"
    }
   ],
   "source": [
    "evaluate(X_test, y_test, pipe)"
   ]
  },
  {
   "cell_type": "markdown",
   "metadata": {},
   "source": [
    "### Test the complete worflow\n",
    "\n",
    "Use the above functions to test the complete workflow."
   ]
  },
  {
   "cell_type": "code",
   "execution_count": 74,
   "metadata": {},
   "outputs": [
    {
     "name": "stdout",
     "output_type": "stream",
     "text": [
      "10.49131441008365\n"
     ]
    }
   ],
   "source": [
    "# store the data in a DataFrame\n",
    "df = get_data()\n",
    "\n",
    "# set X and y\n",
    "y = df[\"fare_amount\"]\n",
    "X = df.drop(\"fare_amount\", axis=1)\n",
    "\n",
    "# hold out\n",
    "X_train, X_val, y_train, y_val = train_test_split(X, y, test_size=0.15)\n",
    "\n",
    "# build pipeline\n",
    "pipeline = set_pipeline()\n",
    "\n",
    "# train the pipeline\n",
    "train(X_train, y_train, pipeline)\n",
    "\n",
    "# evaluate the pipeline\n",
    "rmse = evaluate(X_val, y_val, pipeline)"
   ]
  },
  {
   "cell_type": "markdown",
   "metadata": {},
   "source": [
    "### Congrats!\n",
    "\n",
    "Now we are ready to convert this complete workflow into a packaged code 🚀"
   ]
  }
 ],
 "metadata": {
  "challengify": {
   "keep_output": true
  },
  "kernelspec": {
   "display_name": "Python 3",
   "language": "python",
   "name": "python3"
  },
  "language_info": {
   "codemirror_mode": {
    "name": "ipython",
    "version": 3
   },
   "file_extension": ".py",
   "mimetype": "text/x-python",
   "name": "python",
   "nbconvert_exporter": "python",
   "pygments_lexer": "ipython3",
   "version": "3.9.9"
  },
  "pycharm": {
   "stem_cell": {
    "cell_type": "raw",
    "metadata": {
     "collapsed": false
    },
    "source": []
   }
  },
  "toc": {
   "base_numbering": 1,
   "nav_menu": {},
   "number_sections": false,
   "sideBar": true,
   "skip_h1_title": false,
   "title_cell": "Table of Contents",
   "title_sidebar": "Contents",
   "toc_cell": false,
   "toc_position": {},
   "toc_section_display": true,
   "toc_window_display": true
  },
  "varInspector": {
   "cols": {
    "lenName": 16,
    "lenType": 16,
    "lenVar": 40
   },
   "kernels_config": {
    "python": {
     "delete_cmd_postfix": "",
     "delete_cmd_prefix": "del ",
     "library": "var_list.py",
     "varRefreshCmd": "print(var_dic_list())"
    },
    "r": {
     "delete_cmd_postfix": ") ",
     "delete_cmd_prefix": "rm(",
     "library": "var_list.r",
     "varRefreshCmd": "cat(var_dic_list()) "
    }
   },
   "position": {
    "height": "244px",
    "left": "1550px",
    "right": "20px",
    "top": "120px",
    "width": "350px"
   },
   "types_to_exclude": [
    "module",
    "function",
    "builtin_function_or_method",
    "instance",
    "_Feature"
   ],
   "window_display": false
  }
 },
 "nbformat": 4,
 "nbformat_minor": 4
}
